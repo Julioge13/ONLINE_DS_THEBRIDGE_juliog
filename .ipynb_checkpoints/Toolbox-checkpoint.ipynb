{
 "cells": [
  {
   "cell_type": "markdown",
   "id": "b8a0eef4-79f8-4cbc-bcb3-e92ea5d0e541",
   "metadata": {},
   "source": [
    "# TOOLBOX"
   ]
  },
  {
   "cell_type": "markdown",
   "id": "074e2ac7-ac6f-4614-b0dc-5468071e162c",
   "metadata": {},
   "source": [
    "## Teoria"
   ]
  },
  {
   "cell_type": "markdown",
   "id": "bcbafad4-67b2-48c2-88f6-6e1f25a8b284",
   "metadata": {},
   "source": [
    "## Utilidades\n",
    "\n",
    "Cambiamos el punto por una coma en un float  \n",
    "precio_str = str(precio_total).replace(\".\",\",\")"
   ]
  },
  {
   "cell_type": "markdown",
   "id": "6aa10105-c621-4055-8f11-c589bf0c19f9",
   "metadata": {},
   "source": [
    "## Cosas curiosas\n",
    "\n",
    "print(\"-\"*100)"
   ]
  },
  {
   "cell_type": "markdown",
   "id": "636e4376-8b5b-4e67-8f5a-ee4bef838078",
   "metadata": {},
   "source": [
    "## Preguntas pendientes\n",
    "\n",
    "\n"
   ]
  },
  {
   "cell_type": "markdown",
   "id": "b320fe47-5d23-44ca-8a38-60e55854e5cb",
   "metadata": {},
   "source": [
    "EJERCICIO 6\n",
    "11_Ejercicio_Python_Basics_II_2.ipynb"
   ]
  }
 ],
 "metadata": {
  "kernelspec": {
   "display_name": "Python 3 (ipykernel)",
   "language": "python",
   "name": "python3"
  },
  "language_info": {
   "codemirror_mode": {
    "name": "ipython",
    "version": 3
   },
   "file_extension": ".py",
   "mimetype": "text/x-python",
   "name": "python",
   "nbconvert_exporter": "python",
   "pygments_lexer": "ipython3",
   "version": "3.10.11"
  }
 },
 "nbformat": 4,
 "nbformat_minor": 5
}
