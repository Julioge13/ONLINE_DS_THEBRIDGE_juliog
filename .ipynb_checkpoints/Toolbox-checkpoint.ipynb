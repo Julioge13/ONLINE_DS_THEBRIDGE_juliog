{
 "cells": [
  {
   "cell_type": "markdown",
   "id": "b8a0eef4-79f8-4cbc-bcb3-e92ea5d0e541",
   "metadata": {},
   "source": [
    "# TOOLBOX"
   ]
  },
  {
   "cell_type": "markdown",
   "id": "074e2ac7-ac6f-4614-b0dc-5468071e162c",
   "metadata": {},
   "source": [
    "## Teoria"
   ]
  },
  {
   "cell_type": "markdown",
   "id": "bcbafad4-67b2-48c2-88f6-6e1f25a8b284",
   "metadata": {},
   "source": [
    "## Utilidades"
   ]
  },
  {
   "cell_type": "markdown",
   "id": "6aa10105-c621-4055-8f11-c589bf0c19f9",
   "metadata": {},
   "source": [
    "## Cosas curiosas"
   ]
  },
  {
   "cell_type": "markdown",
   "id": "636e4376-8b5b-4e67-8f5a-ee4bef838078",
   "metadata": {},
   "source": [
    "## Preguntas pendientes\n",
    "\n",
    "\n",
    "\n",
    "En el ejercicio de Python Basics (Ejercicio 3: Comentarios), en el que se pide crear un comentario multilínea,  \n",
    "he intentado añadir este comentario al final del ejercicio, pero me lo imprime.  \n",
    "Mi pregunta:  \n",
    "**Estos comentarios multilinea, tienen que ponerse siempre antes de las lineas de código del ejercicio?**\n",
    "\n",
    "---\n",
    "Código\n",
    "\n",
    "---\n",
    "calle = \"Calle Falsa\" # Asignamos el valor a la variable calle\n",
    "num = \"123\" # Asignamos el valor al número de la calle\n",
    "poblacion = \"Springfield\" # Indicamos población\n",
    "cp = \"08547\" # Y el código postal\n",
    "direccion = calle + \" \" + num + \", \" + poblacion + \" (\" + cp + \")\" # Concatenamos todo, y añadimos \",\" y \"()\" para hacerlo más visual\n",
    "print(\"La dirección es:\",direccion) # Imprimimos para ver si el resultado es el que buscamos\n",
    "\n",
    "'''\n",
    "Este programa nos imprime nuestra dirección\n",
    "Además, intenta darle un poco de formato, \n",
    "buscando que sea más agradable a la vista\n",
    "'''\n",
    "\n",
    "\n",
    "\n",
    "\n"
   ]
  }
 ],
 "metadata": {
  "kernelspec": {
   "display_name": "Python 3 (ipykernel)",
   "language": "python",
   "name": "python3"
  },
  "language_info": {
   "codemirror_mode": {
    "name": "ipython",
    "version": 3
   },
   "file_extension": ".py",
   "mimetype": "text/x-python",
   "name": "python",
   "nbconvert_exporter": "python",
   "pygments_lexer": "ipython3",
   "version": "3.10.11"
  }
 },
 "nbformat": 4,
 "nbformat_minor": 5
}
