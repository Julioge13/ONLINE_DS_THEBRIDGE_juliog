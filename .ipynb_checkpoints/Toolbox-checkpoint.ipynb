{
 "cells": [
  {
   "cell_type": "markdown",
   "id": "b8a0eef4-79f8-4cbc-bcb3-e92ea5d0e541",
   "metadata": {},
   "source": [
    "# TOOLBOX"
   ]
  },
  {
   "cell_type": "code",
   "execution_count": null,
   "id": "a3f3cd2e-eddc-44ae-86c0-29e706a73d77",
   "metadata": {},
   "outputs": [],
   "source": []
  },
  {
   "cell_type": "markdown",
   "id": "074e2ac7-ac6f-4614-b0dc-5468071e162c",
   "metadata": {},
   "source": [
    "## Teoria"
   ]
  },
  {
   "cell_type": "markdown",
   "id": "bcbafad4-67b2-48c2-88f6-6e1f25a8b284",
   "metadata": {},
   "source": [
    "## Utilidades\n",
    "\n",
    "Cambiamos el punto por una coma en un float  \n",
    "precio_str = str(precio_total).replace(\".\",\",\")"
   ]
  },
  {
   "cell_type": "markdown",
   "id": "6aa10105-c621-4055-8f11-c589bf0c19f9",
   "metadata": {},
   "source": [
    "## Cosas curiosas\n",
    "\n",
    "print(\"-\"*100)"
   ]
  },
  {
   "cell_type": "markdown",
   "id": "636e4376-8b5b-4e67-8f5a-ee4bef838078",
   "metadata": {},
   "source": [
    "## Preguntas pendientes\n",
    "\n",
    "\n"
   ]
  },
  {
   "cell_type": "code",
   "execution_count": null,
   "id": "367049b8-ccc8-4745-9ddf-ca61674b0923",
   "metadata": {},
   "outputs": [],
   "source": [
    "## 10 EJERCICIOS MATRICES // EJERCICIO 5 // NO CONSIGO QUE SE IMPRIMA NONE CUANDO HAGO BxC"
   ]
  },
  {
   "cell_type": "code",
   "execution_count": null,
   "id": "1784a5e2-80ed-4e4f-bdf0-2dd5068f06ef",
   "metadata": {},
   "outputs": [],
   "source": [
    "try:\n",
    "    pizz_familiar = int(input(\"¿Cuantas quieres?\"))\n",
    "except:\n",
    "    print(\"no es un numero\")\n"
   ]
  },
  {
   "cell_type": "code",
   "execution_count": null,
   "id": "a60d62ab-d544-4d88-9c0b-4905c5c8b0c4",
   "metadata": {},
   "outputs": [],
   "source": [
    "correcto = False\n",
    "while not correcto:\n",
    "    try:\n",
    "        pizz_familiar = int(input(\"¿Cuantas quieres?\"))\n",
    "        pizz_familiar *= 8.95\n",
    "        correcto = True\n",
    "    except ValueError as mensaje error:\n",
    "        print(\"no es un numero\", mensaje_error)\n",
    "    except Exception as mensaje_error:\n",
    "        print(mensaje_error)\n",
    "        print(\"otro fallo\")\n",
    "    print(\"sigamos\")\n"
   ]
  },
  {
   "cell_type": "code",
   "execution_count": null,
   "id": "331835b9-05a5-48ab-a240-31a786fe5a3d",
   "metadata": {},
   "outputs": [],
   "source": [
    "#ejer 5 diccionario\n",
    "\n",
    "dicc = {}\n",
    "for indice, x in enumerate(ejer_9):\n",
    "    diccionario{indice} = x\n",
    "print(dicc)"
   ]
  },
  {
   "cell_type": "markdown",
   "id": "b320fe47-5d23-44ca-8a38-60e55854e5cb",
   "metadata": {},
   "source": [
    "EJERCICIO 6\n",
    "11_Ejercicio_Python_Basics_II_2.ipynb\n",
    "\n",
    "EJERCICIO 2\n",
    "12_Ejercicio_Python_Basics_II_3.ipynb\n",
    "\n",
    "\n",
    "Me resulta complejo diferenciar la utilidad de las bibliotecas, sets, tuplas, listas, me imagino que cuando tienes un caso práctico, se ve con más claridad"
   ]
  },
  {
   "cell_type": "markdown",
   "id": "7f894478-8660-4d22-8577-f5845eebffe0",
   "metadata": {},
   "source": [
    "A la hora de usar un constructor, si se pone uno por defecto, al crear las subclases, hay que definirlas tambien? si esos atributos van a ser por defecto, no es mejor dejarlos definidos al crear la clase sin usar el self?"
   ]
  },
  {
   "cell_type": "code",
   "execution_count": null,
   "id": "4c6cc291-df8b-4bd8-bd11-dcc5584fdbce",
   "metadata": {},
   "outputs": [],
   "source": [
    "pip install <nombre libreria, paquete, modulo>\n",
    "import math"
   ]
  },
  {
   "cell_type": "code",
   "execution_count": null,
   "id": "71b045f0-0c6e-41e7-8063-ed91f841bb42",
   "metadata": {},
   "outputs": [],
   "source": [
    "#RECURSIVIDAD\n",
    "\n",
    "n! = n * (n-1)!\n",
    "\n",
    "def factorial(n):\n",
    "    if n == 1:\n",
    "        return 1\n",
    "    return n * factorial(n-1)"
   ]
  },
  {
   "cell_type": "code",
   "execution_count": null,
   "id": "c16ca568-0790-4688-be6b-be9c6c915b22",
   "metadata": {},
   "outputs": [],
   "source": [
    "factorial(3)"
   ]
  },
  {
   "cell_type": "code",
   "execution_count": 3,
   "id": "09667dd3-e1d2-4d05-8fc9-7b3b7ca67918",
   "metadata": {},
   "outputs": [
    {
     "name": "stdin",
     "output_type": "stream",
     "text": [
      "monto hipoteca 250000\n",
      "interes anual 5\n",
      "años 30\n"
     ]
    },
    {
     "name": "stdout",
     "output_type": "stream",
     "text": [
      "su cuota es de  1342.0540575303494\n"
     ]
    }
   ],
   "source": [
    "#HIPOTECA\n",
    "\n",
    "volumen = float(input(\"monto hipoteca\"))\n",
    "interes = float(input(\"interes anual\").replace(\"%\",\"\").replace(\",\",\".\"))\n",
    "plazo = int(input(\"años\"))\n",
    "V = volumen\n",
    "i = interes/100/12\n",
    "n = plazo * 12\n",
    "\n",
    "numerador = V * ((i+1)**n)*i\n",
    "denominador = ((i + 1)**n)-1\n",
    "C = numerador / denominador\n",
    "\n",
    "print(\"su cuota es de \",C)\n"
   ]
  },
  {
   "cell_type": "code",
   "execution_count": 7,
   "id": "7dc1487c-31fa-4b92-9511-28895d237307",
   "metadata": {},
   "outputs": [
    {
     "name": "stdout",
     "output_type": "stream",
     "text": [
      "su cuota es de  1739.88\n"
     ]
    }
   ],
   "source": [
    "def calcular_hip (volumen, interes_anual, anyos):\n",
    "    V = volumen\n",
    "    i = interes_anual/100/12\n",
    "    n = anyos * 12\n",
    "    \n",
    "    numerador = V * ((i+1)**n)*i\n",
    "    denominador = ((i + 1)**n)-1\n",
    "    C = numerador / denominador\n",
    "    return round(C,2)\n",
    "    \n",
    "print(\"su cuota es de \",calcular_hip(300000,3.5,20))"
   ]
  },
  {
   "cell_type": "code",
   "execution_count": null,
   "id": "ab446f7a-4cc9-4bd1-bdfe-0f9f37fa9ad6",
   "metadata": {},
   "outputs": [],
   "source": [
    "def gasto_vivienda(ingreso, lista_hip):\n",
    "    #C = calcular_hip(lista_hip[0],lista_hip[1],lista_hip[2])\n",
    "    C = calcular_hip(*lista_hip) \n"
   ]
  },
  {
   "cell_type": "code",
   "execution_count": null,
   "id": "71a0da3d-4105-40ed-b131-26dcb387e35a",
   "metadata": {},
   "outputs": [],
   "source": []
  },
  {
   "cell_type": "code",
   "execution_count": null,
   "id": "9c9abbf6-faed-4c3b-83e5-ae9378f95ce3",
   "metadata": {},
   "outputs": [],
   "source": []
  },
  {
   "cell_type": "code",
   "execution_count": null,
   "id": "a234ea84-a7b4-4a3a-b1c7-94af60a0d46f",
   "metadata": {},
   "outputs": [],
   "source": []
  },
  {
   "cell_type": "code",
   "execution_count": 8,
   "id": "96d49327-04a6-41db-83b3-6494a477116b",
   "metadata": {},
   "outputs": [
    {
     "ename": "NameError",
     "evalue": "name 'coloca' is not defined",
     "output_type": "error",
     "traceback": [
      "\u001b[1;31m---------------------------------------------------------------------------\u001b[0m",
      "\u001b[1;31mNameError\u001b[0m                                 Traceback (most recent call last)",
      "Cell \u001b[1;32mIn[8], line 6\u001b[0m\n\u001b[0;32m      3\u001b[0m     \u001b[38;5;28;01mfor\u001b[39;00m i \u001b[38;5;129;01min\u001b[39;00m \u001b[38;5;28mrange\u001b[39m(num_vueltas):\n\u001b[0;32m      4\u001b[0m         \u001b[38;5;28mprint\u001b[39m(\u001b[38;5;124mf\u001b[39m\u001b[38;5;124m\"\u001b[39m\u001b[38;5;124mvuelta \u001b[39m\u001b[38;5;132;01m{\u001b[39;00mi\u001b[38;5;241m+\u001b[39m\u001b[38;5;241m1\u001b[39m\u001b[38;5;132;01m}\u001b[39;00m\u001b[38;5;124m : \u001b[39m\u001b[38;5;132;01m{\u001b[39;00morden\u001b[38;5;132;01m}\u001b[39;00m\u001b[38;5;124m\"\u001b[39m)\n\u001b[1;32m----> 6\u001b[0m \u001b[43mcarrusel\u001b[49m\u001b[43m(\u001b[49m\u001b[38;5;124;43m\"\u001b[39;49m\u001b[38;5;124;43mavioneta\u001b[39;49m\u001b[38;5;124;43m\"\u001b[39;49m\u001b[43m,\u001b[49m\u001b[38;5;241;43m3\u001b[39;49m\u001b[43m)\u001b[49m\n",
      "Cell \u001b[1;32mIn[8], line 2\u001b[0m, in \u001b[0;36mcarrusel\u001b[1;34m(cochecito, num_vueltas)\u001b[0m\n\u001b[0;32m      1\u001b[0m \u001b[38;5;28;01mdef\u001b[39;00m \u001b[38;5;21mcarrusel\u001b[39m(cochecito, num_vueltas):\n\u001b[1;32m----> 2\u001b[0m     orden \u001b[38;5;241m=\u001b[39m \u001b[43mcoloca\u001b[49m(cochecito)\n\u001b[0;32m      3\u001b[0m     \u001b[38;5;28;01mfor\u001b[39;00m i \u001b[38;5;129;01min\u001b[39;00m \u001b[38;5;28mrange\u001b[39m(num_vueltas):\n\u001b[0;32m      4\u001b[0m         \u001b[38;5;28mprint\u001b[39m(\u001b[38;5;124mf\u001b[39m\u001b[38;5;124m\"\u001b[39m\u001b[38;5;124mvuelta \u001b[39m\u001b[38;5;132;01m{\u001b[39;00mi\u001b[38;5;241m+\u001b[39m\u001b[38;5;241m1\u001b[39m\u001b[38;5;132;01m}\u001b[39;00m\u001b[38;5;124m : \u001b[39m\u001b[38;5;132;01m{\u001b[39;00morden\u001b[38;5;132;01m}\u001b[39;00m\u001b[38;5;124m\"\u001b[39m)\n",
      "\u001b[1;31mNameError\u001b[0m: name 'coloca' is not defined"
     ]
    }
   ],
   "source": [
    "def carrusel(cochecito, num_vueltas):\n",
    "    orden = coloca(cochecito)\n",
    "    for i in range(num_vueltas):\n",
    "        print(f\"vuelta {i+1} : {orden}\")\n",
    "\n",
    "carrusel(\"avioneta\",3)"
   ]
  }
 ],
 "metadata": {
  "kernelspec": {
   "display_name": "Python 3 (ipykernel)",
   "language": "python",
   "name": "python3"
  },
  "language_info": {
   "codemirror_mode": {
    "name": "ipython",
    "version": 3
   },
   "file_extension": ".py",
   "mimetype": "text/x-python",
   "name": "python",
   "nbconvert_exporter": "python",
   "pygments_lexer": "ipython3",
   "version": "3.10.11"
  }
 },
 "nbformat": 4,
 "nbformat_minor": 5
}
