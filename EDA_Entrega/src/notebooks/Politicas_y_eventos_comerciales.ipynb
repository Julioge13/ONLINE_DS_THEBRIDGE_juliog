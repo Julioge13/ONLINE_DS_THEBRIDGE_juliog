{
 "cells": [
  {
   "cell_type": "markdown",
   "metadata": {},
   "source": [
    "## EVENTOS ECONOMICOS GLOBALES  \n",
    "\n",
    "| Crisis                              | Contexto                                             | Impacto en España                                    |\n",
    "|-------------------------------------|------------------------------------------------------|------------------------------------------------------|\n",
    "| Crisis Financiera Asiática (1997)   | Devaluación de monedas, problemas estructurales       | Reducción en exportaciones, impacto en inversiones    |\n",
    "| Burbuja Empresas \"Dot-com\" (2000)   | Auge especulativo en empresas de tecnología           | Volatilidad en mercados, efectos en inversión y comercio |\n",
    "| Crisis Financiera Global (2008)     | Colapso de instituciones financieras, burbuja inmobiliaria | Caída en exportaciones, impacto en sector financiero |\n",
    "| Crisis de Deuda Europea (2010)      | Problemas de deuda soberana, recesión económica       | Presión sobre finanzas públicas, desafíos económicos |\n",
    "| Crisis Bancaria (2012)              | Rescate bancario, problemas en sector financiero      | Inestabilidad financiera, impacto en confianza        |\n",
    "| Brexit (2016)                       | Salida del Reino Unido de la Unión Europea           | Volatilidad en mercados, incertidumbre económica      |\n",
    "| Pandemia COVID-19 (2020)            | Crisis sanitaria global, paralización económica       | Impacto en sectores clave, recesión económica         |\n"
   ]
  },
  {
   "cell_type": "markdown",
   "metadata": {},
   "source": [
    "## POLITICAS COMERCIALES\n",
    "\n",
    "| País              | Año  | Medida                                                      | Posible impacto en España                                     |\n",
    "|-------------------|------|-------------------------------------------------------------|--------------------------------------------------------------|\n",
    "| Unión Europea     | 1999 | Creación del euro como moneda virtual                        | Potencial facilitación del comercio dentro de la eurozona y beneficios para exportaciones españolas dentro de la UE. |\n",
    "| China             | 2001 | Ingreso a la Organización Mundial del Comercio (OMC)         | Posible aumento de oportunidades de exportación para España a China debido a la reducción de barreras comerciales. |\n",
    "| Estados Unidos    | 2002 | Imposición de aranceles al acero español                     | Reducción de exportaciones españolas de acero a EE. UU. por aranceles más altos. |\n",
    "| Japón             | 2004 | Apertura a importaciones de ciertos productos agrícolas      | Posible incremento de exportaciones españolas de productos agrícolas a Japón. |\n",
    "| Rusia             | 2014 | Embargo alimentario a la UE                                  | Reducción de las exportaciones españolas de productos alimenticios a Rusia. |\n",
    "| Reino Unido       | 2016 | Referéndum a favor del Brexit                                | Incertidumbre en los acuerdos comerciales entre España y el Reino Unido. |\n",
    "| India             | 2019 | Aumento de aranceles a productos electrónicos                | Posible impacto en las exportaciones españolas de estos productos a India. |\n",
    "| Estados Unidos    | 2020 | Imposición de aranceles adicionales a productos españoles     | Reducción de exportaciones españolas afectadas por aranceles. |\n",
    "| Unión Europea     | 2021 | Implementación de medidas proteccionistas                    | Posibles restricciones o aranceles que afecten las exportaciones españolas dentro de la UE. |\n",
    "| China             | 2022 | Aumento de barreras comerciales a ciertos productos           | Posibles restricciones a las exportaciones españolas a China. |\n",
    "| Reino Unido       | 2023 | Implementación de tarifas a productos españoles              | Posible reducción de exportaciones españolas al Reino Unido debido a tarifas. |\n"
   ]
  }
 ],
 "metadata": {
  "kernelspec": {
   "display_name": "Python 3",
   "language": "python",
   "name": "python3"
  },
  "language_info": {
   "name": "python",
   "version": "3.10.11"
  }
 },
 "nbformat": 4,
 "nbformat_minor": 2
}
