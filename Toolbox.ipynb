{
 "cells": [
  {
   "cell_type": "markdown",
   "id": "b8a0eef4-79f8-4cbc-bcb3-e92ea5d0e541",
   "metadata": {},
   "source": [
    "# TOOLBOX"
   ]
  },
  {
   "cell_type": "code",
   "execution_count": null,
   "id": "a3f3cd2e-eddc-44ae-86c0-29e706a73d77",
   "metadata": {},
   "outputs": [],
   "source": []
  },
  {
   "cell_type": "markdown",
   "id": "074e2ac7-ac6f-4614-b0dc-5468071e162c",
   "metadata": {},
   "source": [
    "## Teoria"
   ]
  },
  {
   "cell_type": "markdown",
   "id": "bcbafad4-67b2-48c2-88f6-6e1f25a8b284",
   "metadata": {},
   "source": [
    "## Utilidades\n",
    "\n",
    "Cambiamos el punto por una coma en un float  \n",
    "precio_str = str(precio_total).replace(\".\",\",\")"
   ]
  },
  {
   "cell_type": "markdown",
   "id": "6aa10105-c621-4055-8f11-c589bf0c19f9",
   "metadata": {},
   "source": [
    "## Cosas curiosas\n",
    "\n",
    "print(\"-\"*100)"
   ]
  },
  {
   "cell_type": "markdown",
   "id": "636e4376-8b5b-4e67-8f5a-ee4bef838078",
   "metadata": {},
   "source": [
    "## Preguntas pendientes\n",
    "\n",
    "\n"
   ]
  },
  {
   "cell_type": "code",
   "execution_count": null,
   "id": "1784a5e2-80ed-4e4f-bdf0-2dd5068f06ef",
   "metadata": {},
   "outputs": [],
   "source": [
    "try:\n",
    "    pizz_familiar = int(input(\"¿Cuantas quieres?\"))\n",
    "except:\n",
    "    print(\"no es un numero\")\n"
   ]
  },
  {
   "cell_type": "code",
   "execution_count": null,
   "id": "a60d62ab-d544-4d88-9c0b-4905c5c8b0c4",
   "metadata": {},
   "outputs": [],
   "source": [
    "correcto = False\n",
    "while not correcto:\n",
    "    try:\n",
    "        pizz_familiar = int(input(\"¿Cuantas quieres?\"))\n",
    "        pizz_familiar *= 8.95\n",
    "        correcto = True\n",
    "    except ValueError as mensaje error:\n",
    "        print(\"no es un numero\", mensaje_error)\n",
    "    except Exception as mensaje_error:\n",
    "        print(mensaje_error)\n",
    "        print(\"otro fallo\")\n",
    "    print(\"sigamos\")\n"
   ]
  },
  {
   "cell_type": "code",
   "execution_count": null,
   "id": "331835b9-05a5-48ab-a240-31a786fe5a3d",
   "metadata": {},
   "outputs": [],
   "source": [
    "#ejer 5 diccionario\n",
    "\n",
    "dicc = {}\n",
    "for indice, x in enumerate(ejer_9):\n",
    "    diccionario{indice} = x\n",
    "print(dicc)"
   ]
  },
  {
   "cell_type": "markdown",
   "id": "b320fe47-5d23-44ca-8a38-60e55854e5cb",
   "metadata": {},
   "source": [
    "EJERCICIO 6\n",
    "11_Ejercicio_Python_Basics_II_2.ipynb\n",
    "\n",
    "EJERCICIO 2\n",
    "12_Ejercicio_Python_Basics_II_3.ipynb\n",
    "\n",
    "\n",
    "Me resulta complejo diferenciar la utilidad de las bibliotecas, sets, tuplas, listas, me imagino que cuando tienes un caso práctico, se ve con más claridad"
   ]
  },
  {
   "cell_type": "markdown",
   "id": "7f894478-8660-4d22-8577-f5845eebffe0",
   "metadata": {},
   "source": [
    "A la hora de usar un constructor, si se pone uno por defecto, al crear las subclases, hay que definirlas tambien? si esos atributos van a ser por defecto, no es mejor dejarlos definidos al crear la clase sin usar el self?"
   ]
  },
  {
   "cell_type": "code",
   "execution_count": null,
   "id": "4c6cc291-df8b-4bd8-bd11-dcc5584fdbce",
   "metadata": {},
   "outputs": [],
   "source": [
    "pip install <nombre libreria, paquete, modulo>\n",
    "import math"
   ]
  },
  {
   "cell_type": "code",
   "execution_count": null,
   "id": "71b045f0-0c6e-41e7-8063-ed91f841bb42",
   "metadata": {},
   "outputs": [],
   "source": [
    "#RECURSIVIDAD\n",
    "\n",
    "n! = n * (n-1)!\n",
    "\n",
    "def factorial(n):\n",
    "    if n == 1:\n",
    "        return 1\n",
    "    return n * factorial(n-1)"
   ]
  },
  {
   "cell_type": "code",
   "execution_count": null,
   "id": "c16ca568-0790-4688-be6b-be9c6c915b22",
   "metadata": {},
   "outputs": [],
   "source": [
    "factorial(3)"
   ]
  }
 ],
 "metadata": {
  "kernelspec": {
   "display_name": "Python 3 (ipykernel)",
   "language": "python",
   "name": "python3"
  },
  "language_info": {
   "codemirror_mode": {
    "name": "ipython",
    "version": 3
   },
   "file_extension": ".py",
   "mimetype": "text/x-python",
   "name": "python",
   "nbconvert_exporter": "python",
   "pygments_lexer": "ipython3",
   "version": "3.10.11"
  }
 },
 "nbformat": 4,
 "nbformat_minor": 5
}
